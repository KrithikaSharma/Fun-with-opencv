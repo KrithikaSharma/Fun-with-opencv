{
 "cells": [
  {
   "cell_type": "code",
   "execution_count": null,
   "metadata": {},
   "outputs": [],
   "source": [
    "import cv2\n",
    "tom=cv2.imread(\"tom.jpg\")\n",
    "jerry=cv2.imread(\"jerry.jpg\")\n",
    "tom1=cv2.imread(\"tom.jpg\")\n",
    "cv2.imshow(\"tom image\",tom)\n",
    "cv2.imshow(\"jerry image\",jerry)\n",
    "cv2.waitKey()\n",
    "cv2.destroyAllWindows()"
   ]
  },
  {
   "cell_type": "code",
   "execution_count": null,
   "metadata": {},
   "outputs": [],
   "source": [
    "#cropping jerry\n",
    "jerry_face=jerry[35:150,30:210]\n",
    "cv2.imshow(\"jerry face image\",jerry_face)\n",
    "cv2.waitKey()\n",
    "cv2.destroyAllWindows()\n",
    "print(jerry_face.shape)"
   ]
  },
  {
   "cell_type": "code",
   "execution_count": null,
   "metadata": {},
   "outputs": [],
   "source": [
    "#cropping tom\n",
    "tom_face=tom1[35:150,56:250]\n",
    "cv2.imshow(\"tom face image\",tom_face)\n",
    "cv2.waitKey()\n",
    "cv2.destroyAllWindows()\n",
    "print(tom_face.shape)"
   ]
  },
  {
   "cell_type": "code",
   "execution_count": null,
   "metadata": {},
   "outputs": [],
   "source": [
    "#c1=jerry_face c2=tom_face p2=jerry p1=tom p3=tom1"
   ]
  },
  {
   "cell_type": "code",
   "execution_count": null,
   "metadata": {},
   "outputs": [],
   "source": [
    "jerry_face=jerry[35:150,30:210]\n",
    "tom[35:150,56:250]=jerry_face\n",
    "cv2.imshow(\"tom face image\",tom)\n",
    "cv2.waitKey()\n",
    "cv2.destroyAllWindows()\n"
   ]
  },
  {
   "cell_type": "code",
   "execution_count": null,
   "metadata": {},
   "outputs": [],
   "source": [
    "tom_face=tom1[35:150,56:250]\n",
    "jerry[35:150,30:210]=tom_face\n",
    "cv2.imshow(\"tom face image\",jerry)\n",
    "cv2.waitKey()\n",
    "cv2.destroyAllWindows()\n"
   ]
  },
  {
   "cell_type": "code",
   "execution_count": null,
   "metadata": {},
   "outputs": [],
   "source": []
  },
  {
   "cell_type": "code",
   "execution_count": null,
   "metadata": {},
   "outputs": [],
   "source": [
    "import cv2\n",
    "photo1=cv2.imread(\"square.jpg\")\n",
    "cv2.imshow(\"hello\",photo1)\n",
    "cv2.waitKey()\n",
    "cv2.destroyAllWindows()"
   ]
  },
  {
   "cell_type": "code",
   "execution_count": null,
   "metadata": {},
   "outputs": [],
   "source": [
    "photo2=cv2.imread(\"family.jpg\")\n",
    "cv2.imshow(\"hello\",photo2)\n",
    "cv2.waitKey()\n",
    "cv2.destroyAllWindows()"
   ]
  },
  {
   "cell_type": "code",
   "execution_count": null,
   "metadata": {},
   "outputs": [],
   "source": [
    "#crop photo1\n",
    "cp1=photo1[50:200,50:200]\n",
    "cv2.imshow(\"hello\",cp1)\n",
    "cv2.waitKey()\n",
    "cv2.destroyAllWindows()"
   ]
  },
  {
   "cell_type": "code",
   "execution_count": null,
   "metadata": {},
   "outputs": [],
   "source": []
  }
 ],
 "metadata": {
  "kernelspec": {
   "display_name": "Python 3",
   "language": "python",
   "name": "python3"
  },
  "language_info": {
   "codemirror_mode": {
    "name": "ipython",
    "version": 3
   },
   "file_extension": ".py",
   "mimetype": "text/x-python",
   "name": "python",
   "nbconvert_exporter": "python",
   "pygments_lexer": "ipython3",
   "version": "3.8.3"
  }
 },
 "nbformat": 4,
 "nbformat_minor": 4
}

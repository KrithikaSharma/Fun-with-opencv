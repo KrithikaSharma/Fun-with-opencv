{
 "cells": [
  {
   "cell_type": "code",
   "execution_count": null,
   "metadata": {},
   "outputs": [],
   "source": [
    "import cv2\n",
    "square=square[:220,:220]\n",
    "cv2.imwrite(\"square.jpg\",square)\n",
    "square=cv2.imread(\"square.jpg\")\n",
    "cv2.imshow(\"This is colorfull photo\",square)\n",
    "cv2.waitKey()\n",
    "cv2.destroyAllWindows()\n",
    "print(square.shape)"
   ]
  },
  {
   "cell_type": "code",
   "execution_count": null,
   "metadata": {},
   "outputs": [],
   "source": [
    "part1=square[:110,:110]\n",
    "cv2.imshow(\"this is family\",part1)\n",
    "cv2.waitKey()\n",
    "cv2.destroyAllWindows()\n"
   ]
  },
  {
   "cell_type": "code",
   "execution_count": null,
   "metadata": {},
   "outputs": [],
   "source": [
    "part2=square[:110,110:]\n",
    "cv2.imshow(\"this is family\",part2)\n",
    "cv2.waitKey()\n",
    "cv2.destroyAllWindows()\n"
   ]
  },
  {
   "cell_type": "code",
   "execution_count": null,
   "metadata": {},
   "outputs": [],
   "source": [
    "part3=square[110:,:110]\n",
    "cv2.imshow(\"this is family\",part3)\n",
    "cv2.waitKey()\n",
    "cv2.destroyAllWindows()\n"
   ]
  },
  {
   "cell_type": "code",
   "execution_count": null,
   "metadata": {},
   "outputs": [],
   "source": [
    "part4=square[110:,110:]\n",
    "cv2.imshow(\"this is family\",part4)\n",
    "cv2.waitKey()\n",
    "cv2.destroyAllWindows()\n"
   ]
  },
  {
   "cell_type": "code",
   "execution_count": null,
   "metadata": {},
   "outputs": [],
   "source": [
    "import numpy\n",
    "h_college=numpy.hstack((part1,part2,part3,part4))\n",
    "cv2.imshow(\"this is family\",h_college)\n",
    "cv2.waitKey()\n",
    "cv2.destroyAllWindows()\n"
   ]
  },
  {
   "cell_type": "code",
   "execution_count": null,
   "metadata": {},
   "outputs": [],
   "source": [
    "v_college=numpy.vstack((part1,part2,part3,part4))\n",
    "cv2.imshow(\"this is family\",h_college)\n",
    "cv2.waitKey()\n",
    "cv2.destroyAllWindows()\n"
   ]
  },
  {
   "cell_type": "code",
   "execution_count": null,
   "metadata": {},
   "outputs": [],
   "source": [
    "h_s1=numpy.hstack((part1,part2))\n",
    "cv2.imshow(\"this is family\",h_s1)\n",
    "cv2.waitKey()\n",
    "cv2.destroyAllWindows()\n",
    "\n",
    "h_s2=numpy.hstack((part3,part4))\n",
    "cv2.imshow(\"this is family\",h_s2)\n",
    "cv2.waitKey()\n",
    "cv2.destroyAllWindows()\n",
    "\n",
    "college=numpy.vstack((h_s1,h_s2))\n",
    "cv2.imshow(\"this is family\",college)\n",
    "cv2.waitKey()\n",
    "cv2.destroyAllWindows()\n"
   ]
  },
  {
   "cell_type": "code",
   "execution_count": null,
   "metadata": {},
   "outputs": [],
   "source": []
  }
 ],
 "metadata": {
  "kernelspec": {
   "display_name": "Python 3",
   "language": "python",
   "name": "python3"
  },
  "language_info": {
   "codemirror_mode": {
    "name": "ipython",
    "version": 3
   },
   "file_extension": ".py",
   "mimetype": "text/x-python",
   "name": "python",
   "nbconvert_exporter": "python",
   "pygments_lexer": "ipython3",
   "version": "3.8.3"
  }
 },
 "nbformat": 4,
 "nbformat_minor": 4
}

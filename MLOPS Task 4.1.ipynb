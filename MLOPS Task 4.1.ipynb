{
 "cells": [
  {
   "cell_type": "code",
   "execution_count": 1,
   "metadata": {},
   "outputs": [],
   "source": [
    "import cv2\n",
    "import numpy\n",
    "photo=numpy.zeros((300,320,3),numpy.uint8)*255\n",
    "#setting the backgound color\n",
    "photo[:,:]=[39,58,103]"
   ]
  },
  {
   "cell_type": "code",
   "execution_count": 2,
   "metadata": {},
   "outputs": [],
   "source": [
    "cv2.imshow(\"This is task 4.1\",photo)\n",
    "cv2.imwrite(\"mypic.jpg\",photo)\n",
    "cv2.waitKey()\n",
    "cv2.destroyAllWindows()"
   ]
  },
  {
   "cell_type": "code",
   "execution_count": 3,
   "metadata": {},
   "outputs": [],
   "source": [
    "#left eye of owl\n",
    "cv2.circle(photo,(100,100),50,(240,114,20),-1)\n",
    "cv2.circle(photo,(100,100),25,(133,169,79),-1)\n",
    "cv2.circle(photo,(100,100),10,(56,57,31),-1)\n",
    "\n",
    "cv2.imshow(\"This is task 4.1\",photo)\n",
    "cv2.waitKey()\n",
    "cv2.destroyAllWindows()"
   ]
  },
  {
   "cell_type": "code",
   "execution_count": 4,
   "metadata": {},
   "outputs": [],
   "source": [
    "#right eye of owl\n",
    "cv2.circle(photo,(200,100),50,(240,114,20),-1)\n",
    "cv2.circle(photo,(200,100),25,(133,169,79),-1)\n",
    "cv2.circle(photo,(200,100),10,(56,57,31),-1)\n",
    "\n",
    "cv2.imshow(\"This is task 4.1\",photo)\n",
    "cv2.waitKey()\n",
    "cv2.destroyAllWindows()"
   ]
  },
  {
   "cell_type": "code",
   "execution_count": 5,
   "metadata": {},
   "outputs": [],
   "source": [
    "#nose of owl\n",
    "cv2.line(photo, (110,160), (200,160), (144, 243, 251), 25)\n",
    "cv2.line(photo, (200,160), (155,210), (144, 243, 251), 25)\n",
    "cv2.line(photo, (110,160), (155,210), (144, 243, 251), 25)\n",
    "\n",
    "cv2.imshow(\"This is task 4.1\",photo)\n",
    "cv2.waitKey()\n",
    "cv2.destroyAllWindows()"
   ]
  },
  {
   "cell_type": "code",
   "execution_count": 6,
   "metadata": {},
   "outputs": [],
   "source": [
    "#ears of owl\n",
    "cv2.line(photo, (38,70), (110,30), (207, 165, 253), 15)\n",
    "cv2.line(photo, (110,30), (15,2), (207, 165, 253), 15)\n",
    "cv2.line(photo, (38,70), (15,2), (207, 165, 253), 15)\n",
    "\n",
    "cv2.line(photo, (196,30), (267,84), (207, 165, 253), 15)\n",
    "cv2.line(photo, (267,84), (300,10), (207, 165, 253), 15)\n",
    "cv2.line(photo, (196,30), (300,10), (207, 165, 253), 15)\n",
    "\n",
    "\n",
    "cv2.imshow(\"This is task 4.1\",photo)\n",
    "cv2.waitKey()\n",
    "cv2.destroyAllWindows()"
   ]
  },
  {
   "cell_type": "code",
   "execution_count": 7,
   "metadata": {},
   "outputs": [],
   "source": [
    "# circles at bottom\n",
    "cv2.circle(photo,(75,250),15,(255,255,255),3)\n",
    "cv2.circle(photo,(100,250),15,(255,255,255),3)\n",
    "cv2.circle(photo,(125,250),15,(255,255,255),3)\n",
    "cv2.circle(photo,(150,250),15,(255,255,255),3)\n",
    "cv2.circle(photo,(175,250),15,(255,255,255),3)\n",
    "cv2.circle(photo,(200,250),15,(255,255,255),3)\n",
    "cv2.circle(photo,(225,250),15,(255,255,255),3)\n",
    "cv2.circle(photo,(250,250),15,(255,255,255),3)\n",
    "cv2.imshow(\"This is task 4.1\",photo)\n",
    "cv2.waitKey()\n",
    "cv2.destroyAllWindows()"
   ]
  },
  {
   "cell_type": "code",
   "execution_count": 8,
   "metadata": {},
   "outputs": [],
   "source": [
    "#########################################################################################33"
   ]
  },
  {
   "cell_type": "code",
   "execution_count": 9,
   "metadata": {},
   "outputs": [
    {
     "data": {
      "text/plain": [
       "array([[[ 39,  58, 103],\n",
       "        [ 39,  58, 103],\n",
       "        [ 39,  58, 103],\n",
       "        ...,\n",
       "        [ 39,  58, 103],\n",
       "        [ 39,  58, 103],\n",
       "        [ 39,  58, 103]],\n",
       "\n",
       "       [[ 39,  58, 103],\n",
       "        [ 39,  58, 103],\n",
       "        [ 39,  58, 103],\n",
       "        ...,\n",
       "        [ 39,  58, 103],\n",
       "        [ 39,  58, 103],\n",
       "        [ 39,  58, 103]],\n",
       "\n",
       "       [[ 39,  58, 103],\n",
       "        [ 39,  58, 103],\n",
       "        [ 39,  58, 103],\n",
       "        ...,\n",
       "        [ 39,  58, 103],\n",
       "        [ 39,  58, 103],\n",
       "        [ 39,  58, 103]],\n",
       "\n",
       "       ...,\n",
       "\n",
       "       [[ 39,  58, 103],\n",
       "        [ 39,  58, 103],\n",
       "        [ 39,  58, 103],\n",
       "        ...,\n",
       "        [ 39,  58, 103],\n",
       "        [ 39,  58, 103],\n",
       "        [ 39,  58, 103]],\n",
       "\n",
       "       [[ 39,  58, 103],\n",
       "        [ 39,  58, 103],\n",
       "        [ 39,  58, 103],\n",
       "        ...,\n",
       "        [ 39,  58, 103],\n",
       "        [ 39,  58, 103],\n",
       "        [ 39,  58, 103]],\n",
       "\n",
       "       [[ 39,  58, 103],\n",
       "        [ 39,  58, 103],\n",
       "        [ 39,  58, 103],\n",
       "        ...,\n",
       "        [ 39,  58, 103],\n",
       "        [ 39,  58, 103],\n",
       "        [ 39,  58, 103]]], dtype=uint8)"
      ]
     },
     "execution_count": 9,
     "metadata": {},
     "output_type": "execute_result"
    }
   ],
   "source": [
    "photo2=numpy.zeros((300,320,3),numpy.uint8)*255\n",
    "#setting the backgound color\n",
    "photo2[:,:]=[39,58,103]\n",
    "\n",
    "#left eye of owl\n",
    "cv2.circle(photo2,(100,100),50,(240,114,20),-1)\n",
    "cv2.circle(photo2,(100,100),25,(133,169,79),-1)\n",
    "cv2.circle(photo2,(100,100),10,(255,255,255),-1)\n",
    "cv2.circle(photo2,(100,100),5,(56,57,31),-1)\n",
    "\n",
    "#right eye of owl\n",
    "cv2.circle(photo2,(200,100),50,(240,114,20),-1)\n",
    "cv2.circle(photo2,(200,100),25,(133,169,79),-1)\n",
    "cv2.circle(photo2,(100,100),10,(255,255,255),-1)\n",
    "cv2.circle(photo2,(200,100),5,(56,57,31),-1)\n",
    "\n",
    "#nose of owl\n",
    "cv2.line(photo2, (110,160), (200,160), (144, 243, 251), 25)\n",
    "cv2.line(photo2, (200,160), (155,210), (144, 243, 251), 25)\n",
    "cv2.line(photo2, (110,160), (155,210), (144, 243, 251), 25)\n",
    "\n",
    "#ears of owl\n",
    "cv2.line(photo2, (43,75), (115,35), (29, 230, 181), 15)\n",
    "cv2.line(photo2, (115,35), (20,7), (29, 230, 181), 15)\n",
    "cv2.line(photo2, (43,75), (20,7), (29, 230, 181), 15)\n",
    "\n",
    "cv2.line(photo2, (201,35), (272,89), (29, 230, 181), 15)\n",
    "cv2.line(photo2, (272,89), (305,15), (29, 230, 181), 15)\n",
    "cv2.line(photo2, (201,35), (305,15), (29, 230, 181), 15)\n",
    "\n",
    "# circles at bottom\n",
    "cv2.circle(photo2,(75,250),15,(0,0,255),3)\n",
    "cv2.circle(photo2,(100,250),15,(255,0,0),3)\n",
    "cv2.circle(photo2,(125,250),15,(0,0,255),3)\n",
    "cv2.circle(photo2,(150,250),15,(255,0,0),3)\n",
    "cv2.circle(photo2,(175,250),15,(0,0,255),3)\n",
    "cv2.circle(photo2,(200,250),15,(255,0,0),3)\n",
    "cv2.circle(photo2,(225,250),15,(0,0,255),3)\n",
    "cv2.circle(photo2,(250,250),15,(255,0,0),3)\n",
    "\n"
   ]
  },
  {
   "cell_type": "code",
   "execution_count": 10,
   "metadata": {},
   "outputs": [],
   "source": [
    "while True:\n",
    "    cv2.imshow(\"This is task 4.1\",photo)\n",
    "    if cv2.waitKey(200)==13:\n",
    "        #cv2.imshow(\"This is task 4.1\",photo)\n",
    "        break\n",
    "    cv2.imshow(\"This is task 4.1\",photo2)\n",
    "    if cv2.waitKey(200)==13:\n",
    "        #cv2.imshow(\"This is task 4.1\",photo)\n",
    "        break\n",
    "cv2.destroyAllWindows()\n"
   ]
  },
  {
   "cell_type": "code",
   "execution_count": null,
   "metadata": {},
   "outputs": [],
   "source": [
    "#Robo\n",
    "import numpy\n",
    "import cv2\n",
    "\n",
    "img = numpy.zeros((300,300,3),numpy.uint8)*255\n",
    "img[50:250,50:250]=[255,0,0]\n",
    "img[35:55,35:265]=[0,0,255]\n",
    "img[90:120,90:120]=[0,242,255]\n",
    "img[90:120,180:210]=[0,242,255]\n",
    "img[150:200,90:210]=[39,127,255]\n",
    "img[160:190,100:200]=[76,177,34]\n",
    "img[165:185,120:130]=[255,0,0]\n",
    "img[165:185,150:160]=[255,0,0]\n",
    "img[165:185,175:185]=[255,0,0]\n",
    "cv2.imshow('image',img)\n",
    "cv2.waitKey(0)\n",
    "cv2.destroyAllWindows()\n"
   ]
  },
  {
   "cell_type": "code",
   "execution_count": null,
   "metadata": {},
   "outputs": [],
   "source": []
  }
 ],
 "metadata": {
  "kernelspec": {
   "display_name": "Python 3",
   "language": "python",
   "name": "python3"
  },
  "language_info": {
   "codemirror_mode": {
    "name": "ipython",
    "version": 3
   },
   "file_extension": ".py",
   "mimetype": "text/x-python",
   "name": "python",
   "nbconvert_exporter": "python",
   "pygments_lexer": "ipython3",
   "version": "3.8.3"
  }
 },
 "nbformat": 4,
 "nbformat_minor": 4
}
